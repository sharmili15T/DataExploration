{
 "cells": [
  {
   "cell_type": "markdown",
   "metadata": {},
   "source": [
    "#### Context:\n",
    "    Retail dataset of a global superstore for 4 years is being provided, the objective of which is to carry out EDA "
   ]
  },
  {
   "cell_type": "code",
   "execution_count": 1,
   "metadata": {},
   "outputs": [],
   "source": [
    "# Questions:\n",
    "# 1. Read the superstore data and perform basic cleaning up of columns wherever necessary\n",
    "# 2. Check for any missing values present. If yes, how would you treat those values?\n",
    "# 3. Determine the most valuable customers from the superstore data\n",
    "# 4. Similar to the most valuable customers, find out the top 10 states which generated the highest revenue.\n",
    "# 5. Which products contributed most to the revenue?\n",
    "# 6. Examine the correlation between \"Sales\" and \"Segment\" features."
   ]
  }
 ],
 "metadata": {
  "kernelspec": {
   "display_name": "Python 3",
   "language": "python",
   "name": "python3"
  },
  "language_info": {
   "codemirror_mode": {
    "name": "ipython",
    "version": 3
   },
   "file_extension": ".py",
   "mimetype": "text/x-python",
   "name": "python",
   "nbconvert_exporter": "python",
   "pygments_lexer": "ipython3",
   "version": "3.6.5"
  }
 },
 "nbformat": 4,
 "nbformat_minor": 5
}
