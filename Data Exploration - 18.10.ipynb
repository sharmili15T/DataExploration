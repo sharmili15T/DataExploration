{
 "cells": [
  {
   "cell_type": "code",
   "execution_count": 1,
   "id": "9f2c0f98",
   "metadata": {},
   "outputs": [],
   "source": [
    "import pandas as pd\n",
    "import numpy as np\n",
    "import os\n",
    "import matplotlib.pyplot as plt "
   ]
  },
  {
   "cell_type": "code",
   "execution_count": 4,
   "id": "771b254f",
   "metadata": {},
   "outputs": [],
   "source": [
    "df= pd.read_csv('credit_demo.csv',na_values=['Missing','n/a','N/A','NA',''])"
   ]
  },
  {
   "cell_type": "code",
   "execution_count": 5,
   "id": "2934b83d",
   "metadata": {},
   "outputs": [
    {
     "data": {
      "text/plain": [
       "Index(['ID', 'LIMIT_BAL', 'GENDER', 'EDUCATION', 'MARRIAGE', 'AGE',\n",
       "       'PAY_HISTORY', 'BILL_AMT', 'PAY_AMT', 'default'],\n",
       "      dtype='object')"
      ]
     },
     "execution_count": 5,
     "metadata": {},
     "output_type": "execute_result"
    }
   ],
   "source": [
    "df.columns"
   ]
  },
  {
   "cell_type": "code",
   "execution_count": 6,
   "id": "039612a0",
   "metadata": {},
   "outputs": [],
   "source": [
    "#spliting data into training(80%) and testing(20%)\n",
    "#to get the same sample each time hence we give random_state which acts as a label to the data\n",
    "\n",
    "df_train = df.sample(frac=0.80,random_state=123)"
   ]
  },
  {
   "cell_type": "code",
   "execution_count": 7,
   "id": "3c3e17e5",
   "metadata": {},
   "outputs": [
    {
     "data": {
      "text/html": [
       "<div>\n",
       "<style scoped>\n",
       "    .dataframe tbody tr th:only-of-type {\n",
       "        vertical-align: middle;\n",
       "    }\n",
       "\n",
       "    .dataframe tbody tr th {\n",
       "        vertical-align: top;\n",
       "    }\n",
       "\n",
       "    .dataframe thead th {\n",
       "        text-align: right;\n",
       "    }\n",
       "</style>\n",
       "<table border=\"1\" class=\"dataframe\">\n",
       "  <thead>\n",
       "    <tr style=\"text-align: right;\">\n",
       "      <th></th>\n",
       "      <th>ID</th>\n",
       "      <th>LIMIT_BAL</th>\n",
       "      <th>GENDER</th>\n",
       "      <th>EDUCATION</th>\n",
       "      <th>MARRIAGE</th>\n",
       "      <th>AGE</th>\n",
       "      <th>PAY_HISTORY</th>\n",
       "      <th>BILL_AMT</th>\n",
       "      <th>PAY_AMT</th>\n",
       "      <th>default</th>\n",
       "    </tr>\n",
       "  </thead>\n",
       "  <tbody>\n",
       "    <tr>\n",
       "      <th>641</th>\n",
       "      <td>643</td>\n",
       "      <td>140000</td>\n",
       "      <td>MALE</td>\n",
       "      <td>1</td>\n",
       "      <td>2</td>\n",
       "      <td>44.0</td>\n",
       "      <td>-1</td>\n",
       "      <td>5881.666667</td>\n",
       "      <td>5000.500000</td>\n",
       "      <td>0</td>\n",
       "    </tr>\n",
       "    <tr>\n",
       "      <th>1391</th>\n",
       "      <td>1395</td>\n",
       "      <td>210000</td>\n",
       "      <td>MALE</td>\n",
       "      <td>1</td>\n",
       "      <td>1</td>\n",
       "      <td>53.0</td>\n",
       "      <td>-1</td>\n",
       "      <td>6383.166667</td>\n",
       "      <td>5612.166667</td>\n",
       "      <td>0</td>\n",
       "    </tr>\n",
       "    <tr>\n",
       "      <th>1195</th>\n",
       "      <td>1199</td>\n",
       "      <td>310000</td>\n",
       "      <td>FEMALE</td>\n",
       "      <td>1</td>\n",
       "      <td>2</td>\n",
       "      <td>27.0</td>\n",
       "      <td>-1</td>\n",
       "      <td>1490.666667</td>\n",
       "      <td>3571.833333</td>\n",
       "      <td>0</td>\n",
       "    </tr>\n",
       "    <tr>\n",
       "      <th>1461</th>\n",
       "      <td>1465</td>\n",
       "      <td>120000</td>\n",
       "      <td>FEMALE</td>\n",
       "      <td>2</td>\n",
       "      <td>1</td>\n",
       "      <td>41.0</td>\n",
       "      <td>-1</td>\n",
       "      <td>5993.000000</td>\n",
       "      <td>4687.666667</td>\n",
       "      <td>0</td>\n",
       "    </tr>\n",
       "    <tr>\n",
       "      <th>2502</th>\n",
       "      <td>2507</td>\n",
       "      <td>160000</td>\n",
       "      <td>MALE</td>\n",
       "      <td>2</td>\n",
       "      <td>2</td>\n",
       "      <td>36.0</td>\n",
       "      <td>-1</td>\n",
       "      <td>166.666667</td>\n",
       "      <td>166.666667</td>\n",
       "      <td>0</td>\n",
       "    </tr>\n",
       "  </tbody>\n",
       "</table>\n",
       "</div>"
      ],
      "text/plain": [
       "        ID  LIMIT_BAL  GENDER  EDUCATION  MARRIAGE   AGE  PAY_HISTORY  \\\n",
       "641    643     140000    MALE          1         2  44.0           -1   \n",
       "1391  1395     210000    MALE          1         1  53.0           -1   \n",
       "1195  1199     310000  FEMALE          1         2  27.0           -1   \n",
       "1461  1465     120000  FEMALE          2         1  41.0           -1   \n",
       "2502  2507     160000    MALE          2         2  36.0           -1   \n",
       "\n",
       "         BILL_AMT      PAY_AMT  default  \n",
       "641   5881.666667  5000.500000        0  \n",
       "1391  6383.166667  5612.166667        0  \n",
       "1195  1490.666667  3571.833333        0  \n",
       "1461  5993.000000  4687.666667        0  \n",
       "2502   166.666667   166.666667        0  "
      ]
     },
     "execution_count": 7,
     "metadata": {},
     "output_type": "execute_result"
    }
   ],
   "source": [
    "df_train.head()"
   ]
  },
  {
   "cell_type": "code",
   "execution_count": 10,
   "id": "66f04383",
   "metadata": {},
   "outputs": [
    {
     "data": {
      "text/plain": [
       "0    0.672796\n",
       "1    0.327204\n",
       "Name: default, dtype: float64"
      ]
     },
     "execution_count": 10,
     "metadata": {},
     "output_type": "execute_result"
    }
   ],
   "source": [
    "#percentage of defaulters\n",
    "\n",
    "df_train['default'].value_counts()/df_train.shape[0]"
   ]
  },
  {
   "cell_type": "code",
   "execution_count": 11,
   "id": "4558b022",
   "metadata": {},
   "outputs": [
    {
     "data": {
      "text/plain": [
       "0    0.668673\n",
       "1    0.331327\n",
       "Name: default, dtype: float64"
      ]
     },
     "execution_count": 11,
     "metadata": {},
     "output_type": "execute_result"
    }
   ],
   "source": [
    "df['default'].value_counts()/df.shape[0]"
   ]
  },
  {
   "cell_type": "code",
   "execution_count": 12,
   "id": "c24e4329",
   "metadata": {},
   "outputs": [
    {
     "data": {
      "text/plain": [
       "ID              0\n",
       "LIMIT_BAL       0\n",
       "GENDER          0\n",
       "EDUCATION       0\n",
       "MARRIAGE        0\n",
       "AGE            21\n",
       "PAY_HISTORY     0\n",
       "BILL_AMT        0\n",
       "PAY_AMT         0\n",
       "default         0\n",
       "dtype: int64"
      ]
     },
     "execution_count": 12,
     "metadata": {},
     "output_type": "execute_result"
    }
   ],
   "source": [
    "df.isnull().sum()"
   ]
  },
  {
   "cell_type": "code",
   "execution_count": 14,
   "id": "4ec0c808",
   "metadata": {},
   "outputs": [
    {
     "data": {
      "text/html": [
       "<div>\n",
       "<style scoped>\n",
       "    .dataframe tbody tr th:only-of-type {\n",
       "        vertical-align: middle;\n",
       "    }\n",
       "\n",
       "    .dataframe tbody tr th {\n",
       "        vertical-align: top;\n",
       "    }\n",
       "\n",
       "    .dataframe thead th {\n",
       "        text-align: right;\n",
       "    }\n",
       "</style>\n",
       "<table border=\"1\" class=\"dataframe\">\n",
       "  <thead>\n",
       "    <tr style=\"text-align: right;\">\n",
       "      <th></th>\n",
       "      <th>ID</th>\n",
       "      <th>LIMIT_BAL</th>\n",
       "      <th>EDUCATION</th>\n",
       "      <th>MARRIAGE</th>\n",
       "      <th>AGE</th>\n",
       "      <th>PAY_HISTORY</th>\n",
       "      <th>BILL_AMT</th>\n",
       "      <th>PAY_AMT</th>\n",
       "      <th>default</th>\n",
       "    </tr>\n",
       "  </thead>\n",
       "  <tbody>\n",
       "    <tr>\n",
       "      <th>count</th>\n",
       "      <td>2393</td>\n",
       "      <td>2393</td>\n",
       "      <td>2393</td>\n",
       "      <td>2393</td>\n",
       "      <td>2374</td>\n",
       "      <td>2393</td>\n",
       "      <td>2393</td>\n",
       "      <td>2393</td>\n",
       "      <td>2393</td>\n",
       "    </tr>\n",
       "    <tr>\n",
       "      <th>mean</th>\n",
       "      <td>1496</td>\n",
       "      <td>188103</td>\n",
       "      <td>2</td>\n",
       "      <td>1</td>\n",
       "      <td>37</td>\n",
       "      <td>-0</td>\n",
       "      <td>19670</td>\n",
       "      <td>5446</td>\n",
       "      <td>0</td>\n",
       "    </tr>\n",
       "    <tr>\n",
       "      <th>std</th>\n",
       "      <td>863</td>\n",
       "      <td>130588</td>\n",
       "      <td>1</td>\n",
       "      <td>1</td>\n",
       "      <td>9</td>\n",
       "      <td>2</td>\n",
       "      <td>39619</td>\n",
       "      <td>12307</td>\n",
       "      <td>0</td>\n",
       "    </tr>\n",
       "    <tr>\n",
       "      <th>min</th>\n",
       "      <td>1</td>\n",
       "      <td>10000</td>\n",
       "      <td>0</td>\n",
       "      <td>0</td>\n",
       "      <td>21</td>\n",
       "      <td>-2</td>\n",
       "      <td>-4466</td>\n",
       "      <td>0</td>\n",
       "      <td>0</td>\n",
       "    </tr>\n",
       "    <tr>\n",
       "      <th>25%</th>\n",
       "      <td>745</td>\n",
       "      <td>80000</td>\n",
       "      <td>1</td>\n",
       "      <td>1</td>\n",
       "      <td>29</td>\n",
       "      <td>-1</td>\n",
       "      <td>1387</td>\n",
       "      <td>850</td>\n",
       "      <td>0</td>\n",
       "    </tr>\n",
       "    <tr>\n",
       "      <th>50%</th>\n",
       "      <td>1492</td>\n",
       "      <td>180000</td>\n",
       "      <td>2</td>\n",
       "      <td>1</td>\n",
       "      <td>35</td>\n",
       "      <td>-1</td>\n",
       "      <td>4724</td>\n",
       "      <td>2082</td>\n",
       "      <td>0</td>\n",
       "    </tr>\n",
       "    <tr>\n",
       "      <th>75%</th>\n",
       "      <td>2236</td>\n",
       "      <td>260000</td>\n",
       "      <td>2</td>\n",
       "      <td>2</td>\n",
       "      <td>43</td>\n",
       "      <td>2</td>\n",
       "      <td>18970</td>\n",
       "      <td>5558</td>\n",
       "      <td>1</td>\n",
       "    </tr>\n",
       "    <tr>\n",
       "      <th>max</th>\n",
       "      <td>2999</td>\n",
       "      <td>800000</td>\n",
       "      <td>6</td>\n",
       "      <td>3</td>\n",
       "      <td>91</td>\n",
       "      <td>8</td>\n",
       "      <td>386530</td>\n",
       "      <td>385692</td>\n",
       "      <td>1</td>\n",
       "    </tr>\n",
       "  </tbody>\n",
       "</table>\n",
       "</div>"
      ],
      "text/plain": [
       "        ID  LIMIT_BAL  EDUCATION  MARRIAGE  AGE  PAY_HISTORY  BILL_AMT  \\\n",
       "count 2393       2393       2393      2393 2374         2393      2393   \n",
       "mean  1496     188103          2         1   37           -0     19670   \n",
       "std    863     130588          1         1    9            2     39619   \n",
       "min      1      10000          0         0   21           -2     -4466   \n",
       "25%    745      80000          1         1   29           -1      1387   \n",
       "50%   1492     180000          2         1   35           -1      4724   \n",
       "75%   2236     260000          2         2   43            2     18970   \n",
       "max   2999     800000          6         3   91            8    386530   \n",
       "\n",
       "       PAY_AMT  default  \n",
       "count     2393     2393  \n",
       "mean      5446        0  \n",
       "std      12307        0  \n",
       "min          0        0  \n",
       "25%        850        0  \n",
       "50%       2082        0  \n",
       "75%       5558        1  \n",
       "max     385692        1  "
      ]
     },
     "execution_count": 14,
     "metadata": {},
     "output_type": "execute_result"
    }
   ],
   "source": [
    "#to round off the values\n",
    "pd.options.display.float_format='{:.0f}'.format\n",
    "df_train.describe()\n",
    "\n",
    "\n",
    "\n"
   ]
  },
  {
   "cell_type": "code",
   "execution_count": 15,
   "id": "83886e70",
   "metadata": {
    "scrolled": true
   },
   "outputs": [
    {
     "data": {
      "text/plain": [
       "<AxesSubplot:>"
      ]
     },
     "execution_count": 15,
     "metadata": {},
     "output_type": "execute_result"
    },
    {
     "data": {
      "image/png": "[encoded data removed]",
      "text/plain": [
       "<Figure size 432x288 with 1 Axes>"
      ]
     },
     "metadata": {
      "needs_background": "light"
     },
     "output_type": "display_data"
    }
   ],
   "source": [
    "df_train.boxplot(column='LIMIT_BAL')"
   ]
  },
  {
   "cell_type": "code",
   "execution_count": 18,
   "id": "673dfc1d",
   "metadata": {},
   "outputs": [
    {
     "data": {
      "text/plain": [
       "500000.0"
      ]
     },
     "execution_count": 18,
     "metadata": {},
     "output_type": "execute_result"
    }
   ],
   "source": [
    "#to fing the outliner that are above 99% of the data\n",
    "\n",
    "df_train['LIMIT_BAL'].quantile(0.99)"
   ]
  },
  {
   "cell_type": "code",
   "execution_count": 19,
   "id": "90e0f288",
   "metadata": {},
   "outputs": [
    {
     "data": {
      "text/html": [
       "<div>\n",
       "<style scoped>\n",
       "    .dataframe tbody tr th:only-of-type {\n",
       "        vertical-align: middle;\n",
       "    }\n",
       "\n",
       "    .dataframe tbody tr th {\n",
       "        vertical-align: top;\n",
       "    }\n",
       "\n",
       "    .dataframe thead th {\n",
       "        text-align: right;\n",
       "    }\n",
       "</style>\n",
       "<table border=\"1\" class=\"dataframe\">\n",
       "  <thead>\n",
       "    <tr style=\"text-align: right;\">\n",
       "      <th></th>\n",
       "      <th>ID</th>\n",
       "      <th>LIMIT_BAL</th>\n",
       "      <th>GENDER</th>\n",
       "      <th>EDUCATION</th>\n",
       "      <th>MARRIAGE</th>\n",
       "      <th>AGE</th>\n",
       "      <th>PAY_HISTORY</th>\n",
       "      <th>BILL_AMT</th>\n",
       "      <th>PAY_AMT</th>\n",
       "      <th>default</th>\n",
       "    </tr>\n",
       "  </thead>\n",
       "  <tbody>\n",
       "    <tr>\n",
       "      <th>823</th>\n",
       "      <td>825</td>\n",
       "      <td>710000</td>\n",
       "      <td>MALE</td>\n",
       "      <td>2</td>\n",
       "      <td>2</td>\n",
       "      <td>33</td>\n",
       "      <td>-1</td>\n",
       "      <td>6836</td>\n",
       "      <td>9935</td>\n",
       "      <td>0</td>\n",
       "    </tr>\n",
       "    <tr>\n",
       "      <th>1031</th>\n",
       "      <td>1035</td>\n",
       "      <td>580000</td>\n",
       "      <td>MALE</td>\n",
       "      <td>1</td>\n",
       "      <td>2</td>\n",
       "      <td>31</td>\n",
       "      <td>-1</td>\n",
       "      <td>2986</td>\n",
       "      <td>2866</td>\n",
       "      <td>0</td>\n",
       "    </tr>\n",
       "    <tr>\n",
       "      <th>1518</th>\n",
       "      <td>1522</td>\n",
       "      <td>510000</td>\n",
       "      <td>FEMALE</td>\n",
       "      <td>1</td>\n",
       "      <td>1</td>\n",
       "      <td>37</td>\n",
       "      <td>-1</td>\n",
       "      <td>1212</td>\n",
       "      <td>1338</td>\n",
       "      <td>0</td>\n",
       "    </tr>\n",
       "    <tr>\n",
       "      <th>2696</th>\n",
       "      <td>2701</td>\n",
       "      <td>540000</td>\n",
       "      <td>FEMALE</td>\n",
       "      <td>1</td>\n",
       "      <td>2</td>\n",
       "      <td>34</td>\n",
       "      <td>-1</td>\n",
       "      <td>1107</td>\n",
       "      <td>1086</td>\n",
       "      <td>0</td>\n",
       "    </tr>\n",
       "    <tr>\n",
       "      <th>1412</th>\n",
       "      <td>1416</td>\n",
       "      <td>510000</td>\n",
       "      <td>FEMALE</td>\n",
       "      <td>1</td>\n",
       "      <td>1</td>\n",
       "      <td>48</td>\n",
       "      <td>-1</td>\n",
       "      <td>9446</td>\n",
       "      <td>8387</td>\n",
       "      <td>0</td>\n",
       "    </tr>\n",
       "    <tr>\n",
       "      <th>239</th>\n",
       "      <td>240</td>\n",
       "      <td>540000</td>\n",
       "      <td>FEMALE</td>\n",
       "      <td>1</td>\n",
       "      <td>2</td>\n",
       "      <td>34</td>\n",
       "      <td>-1</td>\n",
       "      <td>1077</td>\n",
       "      <td>946</td>\n",
       "      <td>0</td>\n",
       "    </tr>\n",
       "    <tr>\n",
       "      <th>502</th>\n",
       "      <td>503</td>\n",
       "      <td>750000</td>\n",
       "      <td>FEMALE</td>\n",
       "      <td>2</td>\n",
       "      <td>1</td>\n",
       "      <td>43</td>\n",
       "      <td>-1</td>\n",
       "      <td>79797</td>\n",
       "      <td>88402</td>\n",
       "      <td>0</td>\n",
       "    </tr>\n",
       "    <tr>\n",
       "      <th>2226</th>\n",
       "      <td>2230</td>\n",
       "      <td>520000</td>\n",
       "      <td>MALE</td>\n",
       "      <td>2</td>\n",
       "      <td>1</td>\n",
       "      <td>34</td>\n",
       "      <td>-1</td>\n",
       "      <td>29427</td>\n",
       "      <td>28538</td>\n",
       "      <td>0</td>\n",
       "    </tr>\n",
       "    <tr>\n",
       "      <th>1275</th>\n",
       "      <td>1279</td>\n",
       "      <td>520000</td>\n",
       "      <td>MALE</td>\n",
       "      <td>1</td>\n",
       "      <td>2</td>\n",
       "      <td>39</td>\n",
       "      <td>-1</td>\n",
       "      <td>19802</td>\n",
       "      <td>18907</td>\n",
       "      <td>0</td>\n",
       "    </tr>\n",
       "    <tr>\n",
       "      <th>981</th>\n",
       "      <td>984</td>\n",
       "      <td>520000</td>\n",
       "      <td>MALE</td>\n",
       "      <td>1</td>\n",
       "      <td>1</td>\n",
       "      <td>55</td>\n",
       "      <td>-1</td>\n",
       "      <td>11472</td>\n",
       "      <td>11941</td>\n",
       "      <td>0</td>\n",
       "    </tr>\n",
       "    <tr>\n",
       "      <th>2511</th>\n",
       "      <td>2516</td>\n",
       "      <td>800000</td>\n",
       "      <td>MALE</td>\n",
       "      <td>1</td>\n",
       "      <td>2</td>\n",
       "      <td>46</td>\n",
       "      <td>-1</td>\n",
       "      <td>4333</td>\n",
       "      <td>7840</td>\n",
       "      <td>0</td>\n",
       "    </tr>\n",
       "    <tr>\n",
       "      <th>944</th>\n",
       "      <td>947</td>\n",
       "      <td>560000</td>\n",
       "      <td>MALE</td>\n",
       "      <td>1</td>\n",
       "      <td>1</td>\n",
       "      <td>47</td>\n",
       "      <td>-1</td>\n",
       "      <td>54943</td>\n",
       "      <td>57464</td>\n",
       "      <td>0</td>\n",
       "    </tr>\n",
       "    <tr>\n",
       "      <th>2246</th>\n",
       "      <td>2250</td>\n",
       "      <td>550000</td>\n",
       "      <td>MALE</td>\n",
       "      <td>1</td>\n",
       "      <td>2</td>\n",
       "      <td>31</td>\n",
       "      <td>-1</td>\n",
       "      <td>4582</td>\n",
       "      <td>2567</td>\n",
       "      <td>0</td>\n",
       "    </tr>\n",
       "    <tr>\n",
       "      <th>507</th>\n",
       "      <td>508</td>\n",
       "      <td>510000</td>\n",
       "      <td>MALE</td>\n",
       "      <td>1</td>\n",
       "      <td>1</td>\n",
       "      <td>41</td>\n",
       "      <td>-1</td>\n",
       "      <td>6923</td>\n",
       "      <td>6406</td>\n",
       "      <td>0</td>\n",
       "    </tr>\n",
       "    <tr>\n",
       "      <th>636</th>\n",
       "      <td>638</td>\n",
       "      <td>750000</td>\n",
       "      <td>FEMALE</td>\n",
       "      <td>3</td>\n",
       "      <td>1</td>\n",
       "      <td>40</td>\n",
       "      <td>-1</td>\n",
       "      <td>25000</td>\n",
       "      <td>35213</td>\n",
       "      <td>0</td>\n",
       "    </tr>\n",
       "    <tr>\n",
       "      <th>1297</th>\n",
       "      <td>1301</td>\n",
       "      <td>600000</td>\n",
       "      <td>FEMALE</td>\n",
       "      <td>3</td>\n",
       "      <td>1</td>\n",
       "      <td>46</td>\n",
       "      <td>-1</td>\n",
       "      <td>19336</td>\n",
       "      <td>17250</td>\n",
       "      <td>0</td>\n",
       "    </tr>\n",
       "  </tbody>\n",
       "</table>\n",
       "</div>"
      ],
      "text/plain": [
       "        ID  LIMIT_BAL  GENDER  EDUCATION  MARRIAGE  AGE  PAY_HISTORY  \\\n",
       "823    825     710000    MALE          2         2   33           -1   \n",
       "1031  1035     580000    MALE          1         2   31           -1   \n",
       "1518  1522     510000  FEMALE          1         1   37           -1   \n",
       "2696  2701     540000  FEMALE          1         2   34           -1   \n",
       "1412  1416     510000  FEMALE          1         1   48           -1   \n",
       "239    240     540000  FEMALE          1         2   34           -1   \n",
       "502    503     750000  FEMALE          2         1   43           -1   \n",
       "2226  2230     520000    MALE          2         1   34           -1   \n",
       "1275  1279     520000    MALE          1         2   39           -1   \n",
       "981    984     520000    MALE          1         1   55           -1   \n",
       "2511  2516     800000    MALE          1         2   46           -1   \n",
       "944    947     560000    MALE          1         1   47           -1   \n",
       "2246  2250     550000    MALE          1         2   31           -1   \n",
       "507    508     510000    MALE          1         1   41           -1   \n",
       "636    638     750000  FEMALE          3         1   40           -1   \n",
       "1297  1301     600000  FEMALE          3         1   46           -1   \n",
       "\n",
       "      BILL_AMT  PAY_AMT  default  \n",
       "823       6836     9935        0  \n",
       "1031      2986     2866        0  \n",
       "1518      1212     1338        0  \n",
       "2696      1107     1086        0  \n",
       "1412      9446     8387        0  \n",
       "239       1077      946        0  \n",
       "502      79797    88402        0  \n",
       "2226     29427    28538        0  \n",
       "1275     19802    18907        0  \n",
       "981      11472    11941        0  \n",
       "2511      4333     7840        0  \n",
       "944      54943    57464        0  \n",
       "2246      4582     2567        0  \n",
       "507       6923     6406        0  \n",
       "636      25000    35213        0  \n",
       "1297     19336    17250        0  "
      ]
     },
     "execution_count": 19,
     "metadata": {},
     "output_type": "execute_result"
    }
   ],
   "source": [
    "# to see the data beyond 99%\n",
    "\n",
    "df_train.loc[(df_train['LIMIT_BAL']>500000)]"
   ]
  },
  {
   "cell_type": "code",
   "execution_count": 20,
   "id": "abd59497",
   "metadata": {},
   "outputs": [
    {
     "data": {
      "text/plain": [
       "<AxesSubplot:>"
      ]
     },
     "execution_count": 20,
     "metadata": {},
     "output_type": "execute_result"
    },
    {
     "data": {
      "image/png": "[encoded data removed]",
      "text/plain": [
       "<Figure size 432x288 with 1 Axes>"
      ]
     },
     "metadata": {
      "needs_background": "light"
     },
     "output_type": "display_data"
    }
   ],
   "source": [
    "df_train.boxplot(column='PAY_AMT')"
   ]
  },
  {
   "cell_type": "code",
   "execution_count": 21,
   "id": "f0810fd7",
   "metadata": {},
   "outputs": [
    {
     "data": {
      "text/plain": [
       "50938.346669999984"
      ]
     },
     "execution_count": 21,
     "metadata": {},
     "output_type": "execute_result"
    }
   ],
   "source": [
    "df_train['PAY_AMT'].quantile(0.99)"
   ]
  },
  {
   "cell_type": "code",
   "execution_count": 23,
   "id": "c7e232b4",
   "metadata": {},
   "outputs": [
    {
     "data": {
      "text/html": [
       "<div>\n",
       "<style scoped>\n",
       "    .dataframe tbody tr th:only-of-type {\n",
       "        vertical-align: middle;\n",
       "    }\n",
       "\n",
       "    .dataframe tbody tr th {\n",
       "        vertical-align: top;\n",
       "    }\n",
       "\n",
       "    .dataframe thead th {\n",
       "        text-align: right;\n",
       "    }\n",
       "</style>\n",
       "<table border=\"1\" class=\"dataframe\">\n",
       "  <thead>\n",
       "    <tr style=\"text-align: right;\">\n",
       "      <th></th>\n",
       "      <th>ID</th>\n",
       "      <th>LIMIT_BAL</th>\n",
       "      <th>GENDER</th>\n",
       "      <th>EDUCATION</th>\n",
       "      <th>MARRIAGE</th>\n",
       "      <th>AGE</th>\n",
       "      <th>PAY_HISTORY</th>\n",
       "      <th>BILL_AMT</th>\n",
       "      <th>PAY_AMT</th>\n",
       "      <th>default</th>\n",
       "    </tr>\n",
       "  </thead>\n",
       "  <tbody>\n",
       "  </tbody>\n",
       "</table>\n",
       "</div>"
      ],
      "text/plain": [
       "Empty DataFrame\n",
       "Columns: [ID, LIMIT_BAL, GENDER, EDUCATION, MARRIAGE, AGE, PAY_HISTORY, BILL_AMT, PAY_AMT, default]\n",
       "Index: []"
      ]
     },
     "execution_count": 23,
     "metadata": {},
     "output_type": "execute_result"
    }
   ],
   "source": [
    "df_train.loc[(df_train['PAY_AMT']>500000)]"
   ]
  },
  {
   "cell_type": "code",
   "execution_count": 24,
   "id": "36e22d04",
   "metadata": {},
   "outputs": [
    {
     "data": {
      "text/html": [
       "<div>\n",
       "<style scoped>\n",
       "    .dataframe tbody tr th:only-of-type {\n",
       "        vertical-align: middle;\n",
       "    }\n",
       "\n",
       "    .dataframe tbody tr th {\n",
       "        vertical-align: top;\n",
       "    }\n",
       "\n",
       "    .dataframe thead th {\n",
       "        text-align: right;\n",
       "    }\n",
       "</style>\n",
       "<table border=\"1\" class=\"dataframe\">\n",
       "  <thead>\n",
       "    <tr style=\"text-align: right;\">\n",
       "      <th>GENDER</th>\n",
       "      <th>FEMALE</th>\n",
       "      <th>MALE</th>\n",
       "      <th>All</th>\n",
       "    </tr>\n",
       "    <tr>\n",
       "      <th>default</th>\n",
       "      <th></th>\n",
       "      <th></th>\n",
       "      <th></th>\n",
       "    </tr>\n",
       "  </thead>\n",
       "  <tbody>\n",
       "    <tr>\n",
       "      <th>0</th>\n",
       "      <td>1049</td>\n",
       "      <td>561</td>\n",
       "      <td>1610</td>\n",
       "    </tr>\n",
       "    <tr>\n",
       "      <th>1</th>\n",
       "      <td>432</td>\n",
       "      <td>351</td>\n",
       "      <td>783</td>\n",
       "    </tr>\n",
       "    <tr>\n",
       "      <th>All</th>\n",
       "      <td>1481</td>\n",
       "      <td>912</td>\n",
       "      <td>2393</td>\n",
       "    </tr>\n",
       "  </tbody>\n",
       "</table>\n",
       "</div>"
      ],
      "text/plain": [
       "GENDER   FEMALE  MALE   All\n",
       "default                    \n",
       "0          1049   561  1610\n",
       "1           432   351   783\n",
       "All        1481   912  2393"
      ]
     },
     "execution_count": 24,
     "metadata": {},
     "output_type": "execute_result"
    }
   ],
   "source": [
    "pd.crosstab(df_train['default'],df_train['GENDER'],margins=True)"
   ]
  },
  {
   "cell_type": "code",
   "execution_count": 26,
   "id": "82d52978",
   "metadata": {},
   "outputs": [
    {
     "data": {
      "text/html": [
       "<div>\n",
       "<style scoped>\n",
       "    .dataframe tbody tr th:only-of-type {\n",
       "        vertical-align: middle;\n",
       "    }\n",
       "\n",
       "    .dataframe tbody tr th {\n",
       "        vertical-align: top;\n",
       "    }\n",
       "\n",
       "    .dataframe thead th {\n",
       "        text-align: right;\n",
       "    }\n",
       "</style>\n",
       "<table border=\"1\" class=\"dataframe\">\n",
       "  <thead>\n",
       "    <tr style=\"text-align: right;\">\n",
       "      <th>GENDER</th>\n",
       "      <th>FEMALE</th>\n",
       "      <th>MALE</th>\n",
       "      <th>All</th>\n",
       "    </tr>\n",
       "    <tr>\n",
       "      <th>default</th>\n",
       "      <th></th>\n",
       "      <th></th>\n",
       "      <th></th>\n",
       "    </tr>\n",
       "  </thead>\n",
       "  <tbody>\n",
       "    <tr>\n",
       "      <th>0</th>\n",
       "      <td>0.44</td>\n",
       "      <td>0.23</td>\n",
       "      <td>0.67</td>\n",
       "    </tr>\n",
       "    <tr>\n",
       "      <th>1</th>\n",
       "      <td>0.18</td>\n",
       "      <td>0.15</td>\n",
       "      <td>0.33</td>\n",
       "    </tr>\n",
       "    <tr>\n",
       "      <th>All</th>\n",
       "      <td>0.62</td>\n",
       "      <td>0.38</td>\n",
       "      <td>1.00</td>\n",
       "    </tr>\n",
       "  </tbody>\n",
       "</table>\n",
       "</div>"
      ],
      "text/plain": [
       "GENDER   FEMALE  MALE  All\n",
       "default                   \n",
       "0          0.44  0.23 0.67\n",
       "1          0.18  0.15 0.33\n",
       "All        0.62  0.38 1.00"
      ]
     },
     "execution_count": 26,
     "metadata": {},
     "output_type": "execute_result"
    }
   ],
   "source": [
    "pd.options.display.float_format='{:.2f}'.format\n",
    "pd.crosstab(df_train['default'],df_train['GENDER'],margins=True)/df_train.shape[0]"
   ]
  },
  {
   "cell_type": "code",
   "execution_count": 27,
   "id": "98ef2bd7",
   "metadata": {},
   "outputs": [
    {
     "data": {
      "text/html": [
       "<div>\n",
       "<style scoped>\n",
       "    .dataframe tbody tr th:only-of-type {\n",
       "        vertical-align: middle;\n",
       "    }\n",
       "\n",
       "    .dataframe tbody tr th {\n",
       "        vertical-align: top;\n",
       "    }\n",
       "\n",
       "    .dataframe thead th {\n",
       "        text-align: right;\n",
       "    }\n",
       "</style>\n",
       "<table border=\"1\" class=\"dataframe\">\n",
       "  <thead>\n",
       "    <tr style=\"text-align: right;\">\n",
       "      <th>EDUCATION</th>\n",
       "      <th>0</th>\n",
       "      <th>1</th>\n",
       "      <th>2</th>\n",
       "      <th>3</th>\n",
       "      <th>4</th>\n",
       "      <th>5</th>\n",
       "      <th>6</th>\n",
       "      <th>All</th>\n",
       "    </tr>\n",
       "    <tr>\n",
       "      <th>default</th>\n",
       "      <th></th>\n",
       "      <th></th>\n",
       "      <th></th>\n",
       "      <th></th>\n",
       "      <th></th>\n",
       "      <th></th>\n",
       "      <th></th>\n",
       "      <th></th>\n",
       "    </tr>\n",
       "  </thead>\n",
       "  <tbody>\n",
       "    <tr>\n",
       "      <th>0</th>\n",
       "      <td>0.00</td>\n",
       "      <td>0.35</td>\n",
       "      <td>0.23</td>\n",
       "      <td>0.08</td>\n",
       "      <td>0.00</td>\n",
       "      <td>0.00</td>\n",
       "      <td>0.00</td>\n",
       "      <td>0.67</td>\n",
       "    </tr>\n",
       "    <tr>\n",
       "      <th>1</th>\n",
       "      <td>0.00</td>\n",
       "      <td>0.09</td>\n",
       "      <td>0.18</td>\n",
       "      <td>0.06</td>\n",
       "      <td>0.00</td>\n",
       "      <td>0.00</td>\n",
       "      <td>0.00</td>\n",
       "      <td>0.33</td>\n",
       "    </tr>\n",
       "    <tr>\n",
       "      <th>All</th>\n",
       "      <td>0.00</td>\n",
       "      <td>0.44</td>\n",
       "      <td>0.41</td>\n",
       "      <td>0.14</td>\n",
       "      <td>0.00</td>\n",
       "      <td>0.00</td>\n",
       "      <td>0.00</td>\n",
       "      <td>1.00</td>\n",
       "    </tr>\n",
       "  </tbody>\n",
       "</table>\n",
       "</div>"
      ],
      "text/plain": [
       "EDUCATION    0    1    2    3    4    5    6  All\n",
       "default                                          \n",
       "0         0.00 0.35 0.23 0.08 0.00 0.00 0.00 0.67\n",
       "1         0.00 0.09 0.18 0.06 0.00 0.00 0.00 0.33\n",
       "All       0.00 0.44 0.41 0.14 0.00 0.00 0.00 1.00"
      ]
     },
     "execution_count": 27,
     "metadata": {},
     "output_type": "execute_result"
    }
   ],
   "source": [
    "\n",
    "pd.crosstab(df_train['default'],df_train['EDUCATION'],margins=True)/df_train.shape[0]"
   ]
  },
  {
   "cell_type": "code",
   "execution_count": 28,
   "id": "31090982",
   "metadata": {},
   "outputs": [
    {
     "data": {
      "text/html": [
       "<div>\n",
       "<style scoped>\n",
       "    .dataframe tbody tr th:only-of-type {\n",
       "        vertical-align: middle;\n",
       "    }\n",
       "\n",
       "    .dataframe tbody tr th {\n",
       "        vertical-align: top;\n",
       "    }\n",
       "\n",
       "    .dataframe thead th {\n",
       "        text-align: right;\n",
       "    }\n",
       "</style>\n",
       "<table border=\"1\" class=\"dataframe\">\n",
       "  <thead>\n",
       "    <tr style=\"text-align: right;\">\n",
       "      <th>PAY_HISTORY</th>\n",
       "      <th>-2</th>\n",
       "      <th>-1</th>\n",
       "      <th>2</th>\n",
       "      <th>3</th>\n",
       "      <th>4</th>\n",
       "      <th>5</th>\n",
       "      <th>6</th>\n",
       "      <th>7</th>\n",
       "      <th>8</th>\n",
       "      <th>All</th>\n",
       "    </tr>\n",
       "    <tr>\n",
       "      <th>default</th>\n",
       "      <th></th>\n",
       "      <th></th>\n",
       "      <th></th>\n",
       "      <th></th>\n",
       "      <th></th>\n",
       "      <th></th>\n",
       "      <th></th>\n",
       "      <th></th>\n",
       "      <th></th>\n",
       "      <th></th>\n",
       "    </tr>\n",
       "  </thead>\n",
       "  <tbody>\n",
       "    <tr>\n",
       "      <th>0</th>\n",
       "      <td>0.00</td>\n",
       "      <td>0.67</td>\n",
       "      <td>0.00</td>\n",
       "      <td>0.00</td>\n",
       "      <td>0.00</td>\n",
       "      <td>0.00</td>\n",
       "      <td>0.00</td>\n",
       "      <td>0.00</td>\n",
       "      <td>0.00</td>\n",
       "      <td>0.67</td>\n",
       "    </tr>\n",
       "    <tr>\n",
       "      <th>1</th>\n",
       "      <td>0.05</td>\n",
       "      <td>0.00</td>\n",
       "      <td>0.24</td>\n",
       "      <td>0.03</td>\n",
       "      <td>0.00</td>\n",
       "      <td>0.00</td>\n",
       "      <td>0.00</td>\n",
       "      <td>0.01</td>\n",
       "      <td>0.00</td>\n",
       "      <td>0.33</td>\n",
       "    </tr>\n",
       "    <tr>\n",
       "      <th>All</th>\n",
       "      <td>0.05</td>\n",
       "      <td>0.67</td>\n",
       "      <td>0.24</td>\n",
       "      <td>0.03</td>\n",
       "      <td>0.00</td>\n",
       "      <td>0.00</td>\n",
       "      <td>0.00</td>\n",
       "      <td>0.01</td>\n",
       "      <td>0.00</td>\n",
       "      <td>1.00</td>\n",
       "    </tr>\n",
       "  </tbody>\n",
       "</table>\n",
       "</div>"
      ],
      "text/plain": [
       "PAY_HISTORY   -2   -1    2    3    4    5    6    7    8  All\n",
       "default                                                      \n",
       "0           0.00 0.67 0.00 0.00 0.00 0.00 0.00 0.00 0.00 0.67\n",
       "1           0.05 0.00 0.24 0.03 0.00 0.00 0.00 0.01 0.00 0.33\n",
       "All         0.05 0.67 0.24 0.03 0.00 0.00 0.00 0.01 0.00 1.00"
      ]
     },
     "execution_count": 28,
     "metadata": {},
     "output_type": "execute_result"
    }
   ],
   "source": [
    "\n",
    "pd.crosstab(df_train['default'],df_train['PAY_HISTORY'],margins=True)/df_train.shape[0]"
   ]
  },
  {
   "cell_type": "markdown",
   "id": "375b0d78",
   "metadata": {},
   "source": [
    "### Bucketing the numerical values to categorical data"
   ]
  },
  {
   "cell_type": "code",
   "execution_count": 32,
   "id": "2a6e7a3b",
   "metadata": {},
   "outputs": [],
   "source": [
    "def limit_bal_bucket(x):\n",
    "        if 0<x<100000:\n",
    "            return 'LOW'\n",
    "        elif 100000<x<200000:\n",
    "            return 'MEDIUM'\n",
    "        else:\n",
    "            return 'HIGH'"
   ]
  },
  {
   "cell_type": "code",
   "execution_count": 34,
   "id": "fa5f69d6",
   "metadata": {},
   "outputs": [],
   "source": [
    "df_train['LIMIT']= df_train['LIMIT_BAL'].map(limit_bal_bucket)"
   ]
  },
  {
   "cell_type": "code",
   "execution_count": 35,
   "id": "460dff41",
   "metadata": {},
   "outputs": [
    {
     "data": {
      "text/html": [
       "<div>\n",
       "<style scoped>\n",
       "    .dataframe tbody tr th:only-of-type {\n",
       "        vertical-align: middle;\n",
       "    }\n",
       "\n",
       "    .dataframe tbody tr th {\n",
       "        vertical-align: top;\n",
       "    }\n",
       "\n",
       "    .dataframe thead th {\n",
       "        text-align: right;\n",
       "    }\n",
       "</style>\n",
       "<table border=\"1\" class=\"dataframe\">\n",
       "  <thead>\n",
       "    <tr style=\"text-align: right;\">\n",
       "      <th></th>\n",
       "      <th>ID</th>\n",
       "      <th>LIMIT_BAL</th>\n",
       "      <th>GENDER</th>\n",
       "      <th>EDUCATION</th>\n",
       "      <th>MARRIAGE</th>\n",
       "      <th>AGE</th>\n",
       "      <th>PAY_HISTORY</th>\n",
       "      <th>BILL_AMT</th>\n",
       "      <th>PAY_AMT</th>\n",
       "      <th>default</th>\n",
       "      <th>LIMIT</th>\n",
       "    </tr>\n",
       "  </thead>\n",
       "  <tbody>\n",
       "    <tr>\n",
       "      <th>641</th>\n",
       "      <td>643</td>\n",
       "      <td>140000</td>\n",
       "      <td>MALE</td>\n",
       "      <td>1</td>\n",
       "      <td>2</td>\n",
       "      <td>44.00</td>\n",
       "      <td>-1</td>\n",
       "      <td>5881.67</td>\n",
       "      <td>5000.50</td>\n",
       "      <td>0</td>\n",
       "      <td>MEDIUM</td>\n",
       "    </tr>\n",
       "    <tr>\n",
       "      <th>1391</th>\n",
       "      <td>1395</td>\n",
       "      <td>210000</td>\n",
       "      <td>MALE</td>\n",
       "      <td>1</td>\n",
       "      <td>1</td>\n",
       "      <td>53.00</td>\n",
       "      <td>-1</td>\n",
       "      <td>6383.17</td>\n",
       "      <td>5612.17</td>\n",
       "      <td>0</td>\n",
       "      <td>HIGH</td>\n",
       "    </tr>\n",
       "    <tr>\n",
       "      <th>1195</th>\n",
       "      <td>1199</td>\n",
       "      <td>310000</td>\n",
       "      <td>FEMALE</td>\n",
       "      <td>1</td>\n",
       "      <td>2</td>\n",
       "      <td>27.00</td>\n",
       "      <td>-1</td>\n",
       "      <td>1490.67</td>\n",
       "      <td>3571.83</td>\n",
       "      <td>0</td>\n",
       "      <td>HIGH</td>\n",
       "    </tr>\n",
       "    <tr>\n",
       "      <th>1461</th>\n",
       "      <td>1465</td>\n",
       "      <td>120000</td>\n",
       "      <td>FEMALE</td>\n",
       "      <td>2</td>\n",
       "      <td>1</td>\n",
       "      <td>41.00</td>\n",
       "      <td>-1</td>\n",
       "      <td>5993.00</td>\n",
       "      <td>4687.67</td>\n",
       "      <td>0</td>\n",
       "      <td>MEDIUM</td>\n",
       "    </tr>\n",
       "    <tr>\n",
       "      <th>2502</th>\n",
       "      <td>2507</td>\n",
       "      <td>160000</td>\n",
       "      <td>MALE</td>\n",
       "      <td>2</td>\n",
       "      <td>2</td>\n",
       "      <td>36.00</td>\n",
       "      <td>-1</td>\n",
       "      <td>166.67</td>\n",
       "      <td>166.67</td>\n",
       "      <td>0</td>\n",
       "      <td>MEDIUM</td>\n",
       "    </tr>\n",
       "  </tbody>\n",
       "</table>\n",
       "</div>"
      ],
      "text/plain": [
       "        ID  LIMIT_BAL  GENDER  EDUCATION  MARRIAGE   AGE  PAY_HISTORY  \\\n",
       "641    643     140000    MALE          1         2 44.00           -1   \n",
       "1391  1395     210000    MALE          1         1 53.00           -1   \n",
       "1195  1199     310000  FEMALE          1         2 27.00           -1   \n",
       "1461  1465     120000  FEMALE          2         1 41.00           -1   \n",
       "2502  2507     160000    MALE          2         2 36.00           -1   \n",
       "\n",
       "      BILL_AMT  PAY_AMT  default   LIMIT  \n",
       "641    5881.67  5000.50        0  MEDIUM  \n",
       "1391   6383.17  5612.17        0    HIGH  \n",
       "1195   1490.67  3571.83        0    HIGH  \n",
       "1461   5993.00  4687.67        0  MEDIUM  \n",
       "2502    166.67   166.67        0  MEDIUM  "
      ]
     },
     "execution_count": 35,
     "metadata": {},
     "output_type": "execute_result"
    }
   ],
   "source": [
    "df_train.head()"
   ]
  },
  {
   "cell_type": "code",
   "execution_count": 36,
   "id": "562def13",
   "metadata": {},
   "outputs": [
    {
     "data": {
      "text/html": [
       "<div>\n",
       "<style scoped>\n",
       "    .dataframe tbody tr th:only-of-type {\n",
       "        vertical-align: middle;\n",
       "    }\n",
       "\n",
       "    .dataframe tbody tr th {\n",
       "        vertical-align: top;\n",
       "    }\n",
       "\n",
       "    .dataframe thead th {\n",
       "        text-align: right;\n",
       "    }\n",
       "</style>\n",
       "<table border=\"1\" class=\"dataframe\">\n",
       "  <thead>\n",
       "    <tr style=\"text-align: right;\">\n",
       "      <th>LIMIT</th>\n",
       "      <th>HIGH</th>\n",
       "      <th>LOW</th>\n",
       "      <th>MEDIUM</th>\n",
       "      <th>All</th>\n",
       "    </tr>\n",
       "    <tr>\n",
       "      <th>default</th>\n",
       "      <th></th>\n",
       "      <th></th>\n",
       "      <th></th>\n",
       "      <th></th>\n",
       "    </tr>\n",
       "  </thead>\n",
       "  <tbody>\n",
       "    <tr>\n",
       "      <th>0</th>\n",
       "      <td>0.40</td>\n",
       "      <td>0.11</td>\n",
       "      <td>0.17</td>\n",
       "      <td>0.67</td>\n",
       "    </tr>\n",
       "    <tr>\n",
       "      <th>1</th>\n",
       "      <td>0.08</td>\n",
       "      <td>0.19</td>\n",
       "      <td>0.06</td>\n",
       "      <td>0.33</td>\n",
       "    </tr>\n",
       "    <tr>\n",
       "      <th>All</th>\n",
       "      <td>0.48</td>\n",
       "      <td>0.29</td>\n",
       "      <td>0.23</td>\n",
       "      <td>1.00</td>\n",
       "    </tr>\n",
       "  </tbody>\n",
       "</table>\n",
       "</div>"
      ],
      "text/plain": [
       "LIMIT    HIGH  LOW  MEDIUM  All\n",
       "default                        \n",
       "0        0.40 0.11    0.17 0.67\n",
       "1        0.08 0.19    0.06 0.33\n",
       "All      0.48 0.29    0.23 1.00"
      ]
     },
     "execution_count": 36,
     "metadata": {},
     "output_type": "execute_result"
    }
   ],
   "source": [
    "\n",
    "pd.crosstab(df_train['default'],df_train['LIMIT'],margins=True)/df_train.shape[0]"
   ]
  },
  {
   "cell_type": "code",
   "execution_count": 39,
   "id": "d0542b82",
   "metadata": {},
   "outputs": [],
   "source": [
    "#here we remove the null values\n",
    "df_train['AGE'] = df_train['AGE'].fillna(df_train['AGE'].mean())"
   ]
  },
  {
   "cell_type": "code",
   "execution_count": 38,
   "id": "5e9e97f3",
   "metadata": {},
   "outputs": [
    {
     "data": {
      "text/plain": [
       "ID             0\n",
       "LIMIT_BAL      0\n",
       "GENDER         0\n",
       "EDUCATION      0\n",
       "MARRIAGE       0\n",
       "AGE            0\n",
       "PAY_HISTORY    0\n",
       "BILL_AMT       0\n",
       "PAY_AMT        0\n",
       "default        0\n",
       "LIMIT          0\n",
       "dtype: int64"
      ]
     },
     "execution_count": 38,
     "metadata": {},
     "output_type": "execute_result"
    }
   ],
   "source": [
    "df_train.isnull().sum()"
   ]
  },
  {
   "cell_type": "code",
   "execution_count": 40,
   "id": "81ef4084",
   "metadata": {},
   "outputs": [
    {
     "data": {
      "text/plain": [
       "count   2393.00\n",
       "mean      36.69\n",
       "std        9.19\n",
       "min       21.00\n",
       "25%       29.00\n",
       "50%       36.00\n",
       "75%       43.00\n",
       "max       91.00\n",
       "Name: AGE, dtype: float64"
      ]
     },
     "execution_count": 40,
     "metadata": {},
     "output_type": "execute_result"
    }
   ],
   "source": [
    "df_train['AGE'].describe()"
   ]
  },
  {
   "cell_type": "code",
   "execution_count": 42,
   "id": "cb3c49b1",
   "metadata": {},
   "outputs": [
    {
     "data": {
      "text/html": [
       "<div>\n",
       "<style scoped>\n",
       "    .dataframe tbody tr th:only-of-type {\n",
       "        vertical-align: middle;\n",
       "    }\n",
       "\n",
       "    .dataframe tbody tr th {\n",
       "        vertical-align: top;\n",
       "    }\n",
       "\n",
       "    .dataframe thead th {\n",
       "        text-align: right;\n",
       "    }\n",
       "</style>\n",
       "<table border=\"1\" class=\"dataframe\">\n",
       "  <thead>\n",
       "    <tr style=\"text-align: right;\">\n",
       "      <th></th>\n",
       "      <th>ID</th>\n",
       "      <th>LIMIT_BAL</th>\n",
       "      <th>GENDER</th>\n",
       "      <th>EDUCATION</th>\n",
       "      <th>MARRIAGE</th>\n",
       "      <th>AGE</th>\n",
       "      <th>PAY_HISTORY</th>\n",
       "      <th>BILL_AMT</th>\n",
       "      <th>PAY_AMT</th>\n",
       "      <th>default</th>\n",
       "      <th>LIMIT</th>\n",
       "    </tr>\n",
       "  </thead>\n",
       "  <tbody>\n",
       "    <tr>\n",
       "      <th>252</th>\n",
       "      <td>253</td>\n",
       "      <td>260000</td>\n",
       "      <td>FEMALE</td>\n",
       "      <td>1</td>\n",
       "      <td>2</td>\n",
       "      <td>91.00</td>\n",
       "      <td>-1</td>\n",
       "      <td>1835.33</td>\n",
       "      <td>1987.50</td>\n",
       "      <td>0</td>\n",
       "      <td>HIGH</td>\n",
       "    </tr>\n",
       "  </tbody>\n",
       "</table>\n",
       "</div>"
      ],
      "text/plain": [
       "      ID  LIMIT_BAL  GENDER  EDUCATION  MARRIAGE   AGE  PAY_HISTORY  BILL_AMT  \\\n",
       "252  253     260000  FEMALE          1         2 91.00           -1   1835.33   \n",
       "\n",
       "     PAY_AMT  default LIMIT  \n",
       "252  1987.50        0  HIGH  "
      ]
     },
     "execution_count": 42,
     "metadata": {},
     "output_type": "execute_result"
    }
   ],
   "source": [
    "df_train.loc[(df_train['AGE']>70)]\n",
    "\n",
    "#we can delete the value of this extreme observation\n",
    "#or we update the value with the mean value\n",
    "#we have to do this beacuse: there can be error in updating an info \n",
    "#or w ecan assume that there is a hypo from this extreme obs"
   ]
  },
  {
   "cell_type": "code",
   "execution_count": 45,
   "id": "57f6ca51",
   "metadata": {},
   "outputs": [],
   "source": [
    "avg= df_train['AGE'].mean()"
   ]
  },
  {
   "cell_type": "code",
   "execution_count": 46,
   "id": "510f8bd8",
   "metadata": {},
   "outputs": [],
   "source": [
    "#we wont have skewness in the data\n",
    "df_train.loc[(df_train['AGE']>70),'AGE']=avg\n"
   ]
  },
  {
   "cell_type": "code",
   "execution_count": 47,
   "id": "441cdd9c",
   "metadata": {},
   "outputs": [
    {
     "data": {
      "text/plain": [
       "count   2393.00\n",
       "mean      36.66\n",
       "std        9.12\n",
       "min       21.00\n",
       "25%       29.00\n",
       "50%       36.00\n",
       "75%       43.00\n",
       "max       69.00\n",
       "Name: AGE, dtype: float64"
      ]
     },
     "execution_count": 47,
     "metadata": {},
     "output_type": "execute_result"
    }
   ],
   "source": [
    "df_train['AGE'].describe()"
   ]
  },
  {
   "cell_type": "code",
   "execution_count": null,
   "id": "9df9e730",
   "metadata": {},
   "outputs": [],
   "source": []
  },
  {
   "cell_type": "code",
   "execution_count": 49,
   "id": "071be171",
   "metadata": {},
   "outputs": [],
   "source": [
    "def age_bucket(x):\n",
    "        if 20<x<29:\n",
    "            return 'lessthan30'\n",
    "        elif 29<=x<35:\n",
    "            return 'bw29to35'\n",
    "        elif 35<=x<45:\n",
    "            return 'bw35to45'\n",
    "        else:\n",
    "            return 'morethan45'"
   ]
  },
  {
   "cell_type": "code",
   "execution_count": 50,
   "id": "91d437ee",
   "metadata": {},
   "outputs": [],
   "source": [
    "df_train['age_bucket']=df_train['AGE'].map(age_bucket)"
   ]
  },
  {
   "cell_type": "code",
   "execution_count": 52,
   "id": "184d0352",
   "metadata": {},
   "outputs": [
    {
     "data": {
      "text/plain": [
       "641       bw35to45\n",
       "1391    morethan45\n",
       "1195    lessthan30\n",
       "1461      bw35to45\n",
       "2502      bw35to45\n",
       "Name: age_bucket, dtype: object"
      ]
     },
     "execution_count": 52,
     "metadata": {},
     "output_type": "execute_result"
    }
   ],
   "source": [
    "df_train['age_bucket'].head()"
   ]
  },
  {
   "cell_type": "code",
   "execution_count": 54,
   "id": "d828486a",
   "metadata": {},
   "outputs": [
    {
     "data": {
      "text/html": [
       "<div>\n",
       "<style scoped>\n",
       "    .dataframe tbody tr th:only-of-type {\n",
       "        vertical-align: middle;\n",
       "    }\n",
       "\n",
       "    .dataframe tbody tr th {\n",
       "        vertical-align: top;\n",
       "    }\n",
       "\n",
       "    .dataframe thead th {\n",
       "        text-align: right;\n",
       "    }\n",
       "</style>\n",
       "<table border=\"1\" class=\"dataframe\">\n",
       "  <thead>\n",
       "    <tr style=\"text-align: right;\">\n",
       "      <th>age_bucket</th>\n",
       "      <th>bw29to35</th>\n",
       "      <th>bw35to45</th>\n",
       "      <th>lessthan30</th>\n",
       "      <th>morethan45</th>\n",
       "      <th>All</th>\n",
       "    </tr>\n",
       "    <tr>\n",
       "      <th>default</th>\n",
       "      <th></th>\n",
       "      <th></th>\n",
       "      <th></th>\n",
       "      <th></th>\n",
       "      <th></th>\n",
       "    </tr>\n",
       "  </thead>\n",
       "  <tbody>\n",
       "    <tr>\n",
       "      <th>0</th>\n",
       "      <td>0.18</td>\n",
       "      <td>0.24</td>\n",
       "      <td>0.12</td>\n",
       "      <td>0.13</td>\n",
       "      <td>0.67</td>\n",
       "    </tr>\n",
       "    <tr>\n",
       "      <th>1</th>\n",
       "      <td>0.07</td>\n",
       "      <td>0.10</td>\n",
       "      <td>0.09</td>\n",
       "      <td>0.07</td>\n",
       "      <td>0.33</td>\n",
       "    </tr>\n",
       "    <tr>\n",
       "      <th>All</th>\n",
       "      <td>0.25</td>\n",
       "      <td>0.34</td>\n",
       "      <td>0.21</td>\n",
       "      <td>0.20</td>\n",
       "      <td>1.00</td>\n",
       "    </tr>\n",
       "  </tbody>\n",
       "</table>\n",
       "</div>"
      ],
      "text/plain": [
       "age_bucket  bw29to35  bw35to45  lessthan30  morethan45  All\n",
       "default                                                    \n",
       "0               0.18      0.24        0.12        0.13 0.67\n",
       "1               0.07      0.10        0.09        0.07 0.33\n",
       "All             0.25      0.34        0.21        0.20 1.00"
      ]
     },
     "execution_count": 54,
     "metadata": {},
     "output_type": "execute_result"
    }
   ],
   "source": [
    "pd.crosstab(df_train['default'],df_train['age_bucket'],margins=True)/df_train.shape[0]"
   ]
  },
  {
   "cell_type": "code",
   "execution_count": 56,
   "id": "a9d52d75",
   "metadata": {},
   "outputs": [
    {
     "data": {
      "text/plain": [
       "array([[<AxesSubplot:title={'center':'PAY_AMT'}>]], dtype=object)"
      ]
     },
     "execution_count": 56,
     "metadata": {},
     "output_type": "execute_result"
    },
    {
     "data": {
      "image/png": "[encoded data removed]",
      "text/plain": [
       "<Figure size 432x288 with 1 Axes>"
      ]
     },
     "metadata": {
      "needs_background": "light"
     },
     "output_type": "display_data"
    },
    {
     "data": {
      "image/png": "[encoded data removed]",
      "text/plain": [
       "<Figure size 432x288 with 1 Axes>"
      ]
     },
     "metadata": {
      "needs_background": "light"
     },
     "output_type": "display_data"
    }
   ],
   "source": [
    "df_train.query('default==1').hist('BILL_AMT')\n",
    "df_train.query('default==1').hist('PAY_AMT')"
   ]
  },
  {
   "cell_type": "code",
   "execution_count": 57,
   "id": "2d510146",
   "metadata": {},
   "outputs": [
    {
     "data": {
      "text/plain": [
       "array([[<AxesSubplot:title={'center':'PAY_AMT'}>]], dtype=object)"
      ]
     },
     "execution_count": 57,
     "metadata": {},
     "output_type": "execute_result"
    },
    {
     "data": {
      "image/png": "[encoded data removed]",
      "text/plain": [
       "<Figure size 432x288 with 1 Axes>"
      ]
     },
     "metadata": {
      "needs_background": "light"
     },
     "output_type": "display_data"
    },
    {
     "data": {
      "image/png": "[encoded data removed]",
      "text/plain": [
       "<Figure size 432x288 with 1 Axes>"
      ]
     },
     "metadata": {
      "needs_background": "light"
     },
     "output_type": "display_data"
    }
   ],
   "source": [
    "df_train.query('default==0').hist('BILL_AMT')\n",
    "df_train.query('default==0').hist('PAY_AMT')"
   ]
  },
  {
   "cell_type": "code",
   "execution_count": null,
   "id": "f3545b87",
   "metadata": {},
   "outputs": [],
   "source": []
  },
  {
   "cell_type": "code",
   "execution_count": 60,
   "id": "f7535ee9",
   "metadata": {},
   "outputs": [],
   "source": [
    "def billamt_bucket(x):\n",
    "    if x<5000:\n",
    "        return 'LOW'\n",
    "    elif 5000<=x<20000:\n",
    "        return 'MEDIUM'\n",
    "    else:\n",
    "        return 'HIGH'"
   ]
  },
  {
   "cell_type": "code",
   "execution_count": 62,
   "id": "66739dd5",
   "metadata": {},
   "outputs": [],
   "source": [
    "df_train['bill_bucket']= df_train['BILL_AMT'].map(billamt_bucket)"
   ]
  },
  {
   "cell_type": "code",
   "execution_count": 64,
   "id": "5f4b9e11",
   "metadata": {},
   "outputs": [
    {
     "data": {
      "text/html": [
       "<div>\n",
       "<style scoped>\n",
       "    .dataframe tbody tr th:only-of-type {\n",
       "        vertical-align: middle;\n",
       "    }\n",
       "\n",
       "    .dataframe tbody tr th {\n",
       "        vertical-align: top;\n",
       "    }\n",
       "\n",
       "    .dataframe thead th {\n",
       "        text-align: right;\n",
       "    }\n",
       "</style>\n",
       "<table border=\"1\" class=\"dataframe\">\n",
       "  <thead>\n",
       "    <tr style=\"text-align: right;\">\n",
       "      <th>bill_bucket</th>\n",
       "      <th>HIGH</th>\n",
       "      <th>LOW</th>\n",
       "      <th>MEDIUM</th>\n",
       "    </tr>\n",
       "    <tr>\n",
       "      <th>default</th>\n",
       "      <th></th>\n",
       "      <th></th>\n",
       "      <th></th>\n",
       "    </tr>\n",
       "  </thead>\n",
       "  <tbody>\n",
       "    <tr>\n",
       "      <th>0</th>\n",
       "      <td>0.05</td>\n",
       "      <td>0.44</td>\n",
       "      <td>0.18</td>\n",
       "    </tr>\n",
       "    <tr>\n",
       "      <th>1</th>\n",
       "      <td>0.19</td>\n",
       "      <td>0.07</td>\n",
       "      <td>0.07</td>\n",
       "    </tr>\n",
       "  </tbody>\n",
       "</table>\n",
       "</div>"
      ],
      "text/plain": [
       "bill_bucket  HIGH  LOW  MEDIUM\n",
       "default                       \n",
       "0            0.05 0.44    0.18\n",
       "1            0.19 0.07    0.07"
      ]
     },
     "execution_count": 64,
     "metadata": {},
     "output_type": "execute_result"
    }
   ],
   "source": [
    "pd.crosstab(df_train['default'],df_train['bill_bucket'])/df_train.shape[0]"
   ]
  },
  {
   "cell_type": "code",
   "execution_count": 65,
   "id": "3bd6b2c1",
   "metadata": {},
   "outputs": [],
   "source": [
    "def payamt_bucket(x):\n",
    "    if x<833:\n",
    "        return 'LOW'\n",
    "    elif 833<=x<5281:\n",
    "        return 'MEDIUM'\n",
    "    else:\n",
    "        return 'HIGH'"
   ]
  },
  {
   "cell_type": "code",
   "execution_count": 66,
   "id": "d250c72b",
   "metadata": {},
   "outputs": [],
   "source": [
    "df_train['pay_bucket']=df['PAY_AMT'].map(payamt_bucket)"
   ]
  },
  {
   "cell_type": "code",
   "execution_count": 67,
   "id": "04ff4d92",
   "metadata": {},
   "outputs": [
    {
     "data": {
      "text/html": [
       "<div>\n",
       "<style scoped>\n",
       "    .dataframe tbody tr th:only-of-type {\n",
       "        vertical-align: middle;\n",
       "    }\n",
       "\n",
       "    .dataframe tbody tr th {\n",
       "        vertical-align: top;\n",
       "    }\n",
       "\n",
       "    .dataframe thead th {\n",
       "        text-align: right;\n",
       "    }\n",
       "</style>\n",
       "<table border=\"1\" class=\"dataframe\">\n",
       "  <thead>\n",
       "    <tr style=\"text-align: right;\">\n",
       "      <th>pay_bucket</th>\n",
       "      <th>HIGH</th>\n",
       "      <th>LOW</th>\n",
       "      <th>MEDIUM</th>\n",
       "      <th>All</th>\n",
       "    </tr>\n",
       "    <tr>\n",
       "      <th>default</th>\n",
       "      <th></th>\n",
       "      <th></th>\n",
       "      <th></th>\n",
       "      <th></th>\n",
       "    </tr>\n",
       "  </thead>\n",
       "  <tbody>\n",
       "    <tr>\n",
       "      <th>0</th>\n",
       "      <td>0.23</td>\n",
       "      <td>0.15</td>\n",
       "      <td>0.29</td>\n",
       "      <td>0.67</td>\n",
       "    </tr>\n",
       "    <tr>\n",
       "      <th>1</th>\n",
       "      <td>0.04</td>\n",
       "      <td>0.09</td>\n",
       "      <td>0.20</td>\n",
       "      <td>0.33</td>\n",
       "    </tr>\n",
       "    <tr>\n",
       "      <th>All</th>\n",
       "      <td>0.26</td>\n",
       "      <td>0.24</td>\n",
       "      <td>0.50</td>\n",
       "      <td>1.00</td>\n",
       "    </tr>\n",
       "  </tbody>\n",
       "</table>\n",
       "</div>"
      ],
      "text/plain": [
       "pay_bucket  HIGH  LOW  MEDIUM  All\n",
       "default                           \n",
       "0           0.23 0.15    0.29 0.67\n",
       "1           0.04 0.09    0.20 0.33\n",
       "All         0.26 0.24    0.50 1.00"
      ]
     },
     "execution_count": 67,
     "metadata": {},
     "output_type": "execute_result"
    }
   ],
   "source": [
    "pd.crosstab(df_train['default'],df_train['pay_bucket'],margins=True)/df_train.shape[0]"
   ]
  },
  {
   "cell_type": "code",
   "execution_count": null,
   "id": "8023138a",
   "metadata": {},
   "outputs": [],
   "source": []
  },
  {
   "cell_type": "code",
   "execution_count": 69,
   "id": "d90c5573",
   "metadata": {},
   "outputs": [],
   "source": [
    "df_train['GENDER']= df_train['GENDER'].map(lambda x:1 if x=='MALE' else 0)"
   ]
  },
  {
   "cell_type": "code",
   "execution_count": 70,
   "id": "276b294a",
   "metadata": {},
   "outputs": [
    {
     "data": {
      "text/plain": [
       "641     1\n",
       "1391    1\n",
       "1195    0\n",
       "1461    0\n",
       "2502    1\n",
       "Name: GENDER, dtype: int64"
      ]
     },
     "execution_count": 70,
     "metadata": {},
     "output_type": "execute_result"
    }
   ],
   "source": [
    "df_train['GENDER'].head()"
   ]
  },
  {
   "cell_type": "code",
   "execution_count": null,
   "id": "3208905a",
   "metadata": {},
   "outputs": [],
   "source": []
  },
  {
   "cell_type": "code",
   "execution_count": 74,
   "id": "5ed7949e",
   "metadata": {},
   "outputs": [
    {
     "data": {
      "text/html": [
       "<div>\n",
       "<style scoped>\n",
       "    .dataframe tbody tr th:only-of-type {\n",
       "        vertical-align: middle;\n",
       "    }\n",
       "\n",
       "    .dataframe tbody tr th {\n",
       "        vertical-align: top;\n",
       "    }\n",
       "\n",
       "    .dataframe thead th {\n",
       "        text-align: right;\n",
       "    }\n",
       "</style>\n",
       "<table border=\"1\" class=\"dataframe\">\n",
       "  <thead>\n",
       "    <tr style=\"text-align: right;\">\n",
       "      <th></th>\n",
       "      <th>ID</th>\n",
       "      <th>LIMIT_BAL</th>\n",
       "      <th>GENDER</th>\n",
       "      <th>EDUCATION</th>\n",
       "      <th>MARRIAGE</th>\n",
       "      <th>AGE</th>\n",
       "      <th>PAY_HISTORY</th>\n",
       "      <th>BILL_AMT</th>\n",
       "      <th>PAY_AMT</th>\n",
       "      <th>default</th>\n",
       "      <th>LIMIT</th>\n",
       "      <th>age_bucket</th>\n",
       "      <th>bill_bucket</th>\n",
       "      <th>pay_bucket</th>\n",
       "    </tr>\n",
       "  </thead>\n",
       "  <tbody>\n",
       "    <tr>\n",
       "      <th>641</th>\n",
       "      <td>643</td>\n",
       "      <td>140000</td>\n",
       "      <td>1</td>\n",
       "      <td>1</td>\n",
       "      <td>2</td>\n",
       "      <td>44.00</td>\n",
       "      <td>-1</td>\n",
       "      <td>5881.67</td>\n",
       "      <td>5000.50</td>\n",
       "      <td>0</td>\n",
       "      <td>MEDIUM</td>\n",
       "      <td>bw35to45</td>\n",
       "      <td>MEDIUM</td>\n",
       "      <td>MEDIUM</td>\n",
       "    </tr>\n",
       "    <tr>\n",
       "      <th>1391</th>\n",
       "      <td>1395</td>\n",
       "      <td>210000</td>\n",
       "      <td>1</td>\n",
       "      <td>1</td>\n",
       "      <td>1</td>\n",
       "      <td>53.00</td>\n",
       "      <td>-1</td>\n",
       "      <td>6383.17</td>\n",
       "      <td>5612.17</td>\n",
       "      <td>0</td>\n",
       "      <td>HIGH</td>\n",
       "      <td>morethan45</td>\n",
       "      <td>MEDIUM</td>\n",
       "      <td>HIGH</td>\n",
       "    </tr>\n",
       "    <tr>\n",
       "      <th>1195</th>\n",
       "      <td>1199</td>\n",
       "      <td>310000</td>\n",
       "      <td>0</td>\n",
       "      <td>1</td>\n",
       "      <td>2</td>\n",
       "      <td>27.00</td>\n",
       "      <td>-1</td>\n",
       "      <td>1490.67</td>\n",
       "      <td>3571.83</td>\n",
       "      <td>0</td>\n",
       "      <td>HIGH</td>\n",
       "      <td>lessthan30</td>\n",
       "      <td>LOW</td>\n",
       "      <td>MEDIUM</td>\n",
       "    </tr>\n",
       "    <tr>\n",
       "      <th>1461</th>\n",
       "      <td>1465</td>\n",
       "      <td>120000</td>\n",
       "      <td>0</td>\n",
       "      <td>2</td>\n",
       "      <td>1</td>\n",
       "      <td>41.00</td>\n",
       "      <td>-1</td>\n",
       "      <td>5993.00</td>\n",
       "      <td>4687.67</td>\n",
       "      <td>0</td>\n",
       "      <td>MEDIUM</td>\n",
       "      <td>bw35to45</td>\n",
       "      <td>MEDIUM</td>\n",
       "      <td>MEDIUM</td>\n",
       "    </tr>\n",
       "    <tr>\n",
       "      <th>2502</th>\n",
       "      <td>2507</td>\n",
       "      <td>160000</td>\n",
       "      <td>1</td>\n",
       "      <td>2</td>\n",
       "      <td>2</td>\n",
       "      <td>36.00</td>\n",
       "      <td>-1</td>\n",
       "      <td>166.67</td>\n",
       "      <td>166.67</td>\n",
       "      <td>0</td>\n",
       "      <td>MEDIUM</td>\n",
       "      <td>bw35to45</td>\n",
       "      <td>LOW</td>\n",
       "      <td>LOW</td>\n",
       "    </tr>\n",
       "    <tr>\n",
       "      <th>...</th>\n",
       "      <td>...</td>\n",
       "      <td>...</td>\n",
       "      <td>...</td>\n",
       "      <td>...</td>\n",
       "      <td>...</td>\n",
       "      <td>...</td>\n",
       "      <td>...</td>\n",
       "      <td>...</td>\n",
       "      <td>...</td>\n",
       "      <td>...</td>\n",
       "      <td>...</td>\n",
       "      <td>...</td>\n",
       "      <td>...</td>\n",
       "      <td>...</td>\n",
       "    </tr>\n",
       "    <tr>\n",
       "      <th>1978</th>\n",
       "      <td>1982</td>\n",
       "      <td>50000</td>\n",
       "      <td>0</td>\n",
       "      <td>2</td>\n",
       "      <td>1</td>\n",
       "      <td>30.00</td>\n",
       "      <td>-1</td>\n",
       "      <td>2859.17</td>\n",
       "      <td>2937.00</td>\n",
       "      <td>0</td>\n",
       "      <td>LOW</td>\n",
       "      <td>bw29to35</td>\n",
       "      <td>LOW</td>\n",
       "      <td>MEDIUM</td>\n",
       "    </tr>\n",
       "    <tr>\n",
       "      <th>873</th>\n",
       "      <td>876</td>\n",
       "      <td>30000</td>\n",
       "      <td>1</td>\n",
       "      <td>2</td>\n",
       "      <td>2</td>\n",
       "      <td>27.00</td>\n",
       "      <td>-1</td>\n",
       "      <td>1248.67</td>\n",
       "      <td>1061.67</td>\n",
       "      <td>0</td>\n",
       "      <td>LOW</td>\n",
       "      <td>lessthan30</td>\n",
       "      <td>LOW</td>\n",
       "      <td>MEDIUM</td>\n",
       "    </tr>\n",
       "    <tr>\n",
       "      <th>2722</th>\n",
       "      <td>2727</td>\n",
       "      <td>170000</td>\n",
       "      <td>0</td>\n",
       "      <td>2</td>\n",
       "      <td>2</td>\n",
       "      <td>38.00</td>\n",
       "      <td>-1</td>\n",
       "      <td>9299.50</td>\n",
       "      <td>14457.67</td>\n",
       "      <td>0</td>\n",
       "      <td>MEDIUM</td>\n",
       "      <td>bw35to45</td>\n",
       "      <td>MEDIUM</td>\n",
       "      <td>HIGH</td>\n",
       "    </tr>\n",
       "    <tr>\n",
       "      <th>539</th>\n",
       "      <td>541</td>\n",
       "      <td>240000</td>\n",
       "      <td>1</td>\n",
       "      <td>1</td>\n",
       "      <td>1</td>\n",
       "      <td>47.00</td>\n",
       "      <td>2</td>\n",
       "      <td>141243.67</td>\n",
       "      <td>5696.17</td>\n",
       "      <td>1</td>\n",
       "      <td>HIGH</td>\n",
       "      <td>morethan45</td>\n",
       "      <td>HIGH</td>\n",
       "      <td>HIGH</td>\n",
       "    </tr>\n",
       "    <tr>\n",
       "      <th>690</th>\n",
       "      <td>692</td>\n",
       "      <td>120000</td>\n",
       "      <td>0</td>\n",
       "      <td>2</td>\n",
       "      <td>1</td>\n",
       "      <td>34.00</td>\n",
       "      <td>2</td>\n",
       "      <td>66524.17</td>\n",
       "      <td>2675.00</td>\n",
       "      <td>1</td>\n",
       "      <td>MEDIUM</td>\n",
       "      <td>bw29to35</td>\n",
       "      <td>HIGH</td>\n",
       "      <td>MEDIUM</td>\n",
       "    </tr>\n",
       "  </tbody>\n",
       "</table>\n",
       "<p>2371 rows × 14 columns</p>\n",
       "</div>"
      ],
      "text/plain": [
       "        ID  LIMIT_BAL  GENDER  EDUCATION  MARRIAGE   AGE  PAY_HISTORY  \\\n",
       "641    643     140000       1          1         2 44.00           -1   \n",
       "1391  1395     210000       1          1         1 53.00           -1   \n",
       "1195  1199     310000       0          1         2 27.00           -1   \n",
       "1461  1465     120000       0          2         1 41.00           -1   \n",
       "2502  2507     160000       1          2         2 36.00           -1   \n",
       "...    ...        ...     ...        ...       ...   ...          ...   \n",
       "1978  1982      50000       0          2         1 30.00           -1   \n",
       "873    876      30000       1          2         2 27.00           -1   \n",
       "2722  2727     170000       0          2         2 38.00           -1   \n",
       "539    541     240000       1          1         1 47.00            2   \n",
       "690    692     120000       0          2         1 34.00            2   \n",
       "\n",
       "      BILL_AMT  PAY_AMT  default   LIMIT  age_bucket bill_bucket pay_bucket  \n",
       "641    5881.67  5000.50        0  MEDIUM    bw35to45      MEDIUM     MEDIUM  \n",
       "1391   6383.17  5612.17        0    HIGH  morethan45      MEDIUM       HIGH  \n",
       "1195   1490.67  3571.83        0    HIGH  lessthan30         LOW     MEDIUM  \n",
       "1461   5993.00  4687.67        0  MEDIUM    bw35to45      MEDIUM     MEDIUM  \n",
       "2502    166.67   166.67        0  MEDIUM    bw35to45         LOW        LOW  \n",
       "...        ...      ...      ...     ...         ...         ...        ...  \n",
       "1978   2859.17  2937.00        0     LOW    bw29to35         LOW     MEDIUM  \n",
       "873    1248.67  1061.67        0     LOW  lessthan30         LOW     MEDIUM  \n",
       "2722   9299.50 14457.67        0  MEDIUM    bw35to45      MEDIUM       HIGH  \n",
       "539  141243.67  5696.17        1    HIGH  morethan45        HIGH       HIGH  \n",
       "690   66524.17  2675.00        1  MEDIUM    bw29to35        HIGH     MEDIUM  \n",
       "\n",
       "[2371 rows x 14 columns]"
      ]
     },
     "execution_count": 74,
     "metadata": {},
     "output_type": "execute_result"
    }
   ],
   "source": [
    "df_train.drop(df_train.query('EDUCATION==0 | EDUCATION>3').index)"
   ]
  },
  {
   "cell_type": "code",
   "execution_count": 75,
   "id": "4eeb2133",
   "metadata": {},
   "outputs": [
    {
     "data": {
      "text/plain": [
       "array([1, 2, 3, 4, 6, 5, 0], dtype=int64)"
      ]
     },
     "execution_count": 75,
     "metadata": {},
     "output_type": "execute_result"
    }
   ],
   "source": [
    "df_train['EDUCATION'].unique()"
   ]
  },
  {
   "cell_type": "code",
   "execution_count": 77,
   "id": "11b495cb",
   "metadata": {},
   "outputs": [
    {
     "data": {
      "text/plain": [
       "Index(['ID', 'LIMIT_BAL', 'GENDER', 'EDUCATION', 'MARRIAGE', 'AGE',\n",
       "       'PAY_HISTORY', 'BILL_AMT', 'PAY_AMT', 'default', 'LIMIT', 'age_bucket',\n",
       "       'bill_bucket', 'pay_bucket'],\n",
       "      dtype='object')"
      ]
     },
     "execution_count": 77,
     "metadata": {},
     "output_type": "execute_result"
    }
   ],
   "source": [
    "df_train.columns.unique()"
   ]
  },
  {
   "cell_type": "code",
   "execution_count": 76,
   "id": "2ccac8b8",
   "metadata": {},
   "outputs": [],
   "source": [
    "#this is done for marital status and pay_hsitory"
   ]
  },
  {
   "cell_type": "code",
   "execution_count": null,
   "id": "ba6375f3",
   "metadata": {},
   "outputs": [],
   "source": [
    "df_final= get_dummies(df_train , columns=)"
   ]
  },
  {
   "cell_type": "code",
   "execution_count": null,
   "id": "520d2738",
   "metadata": {},
   "outputs": [],
   "source": []
  },
  {
   "cell_type": "code",
   "execution_count": null,
   "id": "54293802",
   "metadata": {},
   "outputs": [],
   "source": []
  },
  {
   "cell_type": "code",
   "execution_count": null,
   "id": "add214de",
   "metadata": {},
   "outputs": [],
   "source": []
  },
  {
   "cell_type": "code",
   "execution_count": null,
   "id": "f7ea48ea",
   "metadata": {},
   "outputs": [],
   "source": []
  },
  {
   "cell_type": "code",
   "execution_count": null,
   "id": "fd6f5f5d",
   "metadata": {},
   "outputs": [],
   "source": []
  },
  {
   "cell_type": "code",
   "execution_count": null,
   "id": "1c0497fe",
   "metadata": {},
   "outputs": [],
   "source": []
  }
 ],
 "metadata": {
  "kernelspec": {
   "display_name": "Python 3",
   "language": "python",
   "name": "python3"
  },
  "language_info": {
   "codemirror_mode": {
    "name": "ipython",
    "version": 3
   },
   "file_extension": ".py",
   "mimetype": "text/x-python",
   "name": "python",
   "nbconvert_exporter": "python",
   "pygments_lexer": "ipython3",
   "version": "3.8.8"
  }
 },
 "nbformat": 4,
 "nbformat_minor": 5
}
